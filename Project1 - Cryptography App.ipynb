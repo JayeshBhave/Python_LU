{
 "cells": [
  {
   "cell_type": "code",
   "execution_count": 1,
   "metadata": {},
   "outputs": [
    {
     "name": "stdout",
     "output_type": "stream",
     "text": [
      "Requirement already satisfied: cryptography in c:\\programdata\\anaconda3\\lib\\site-packages (2.9.2)\n",
      "Requirement already satisfied: six>=1.4.1 in c:\\programdata\\anaconda3\\lib\\site-packages (from cryptography) (1.15.0)\n",
      "Requirement already satisfied: cffi!=1.11.3,>=1.8 in c:\\programdata\\anaconda3\\lib\\site-packages (from cryptography) (1.14.0)\n",
      "Requirement already satisfied: pycparser in c:\\programdata\\anaconda3\\lib\\site-packages (from cffi!=1.11.3,>=1.8->cryptography) (2.20)\n",
      "Note: you may need to restart the kernel to use updated packages.\n"
     ]
    }
   ],
   "source": [
    "pip install cryptography"
   ]
  },
  {
   "cell_type": "code",
   "execution_count": 17,
   "metadata": {},
   "outputs": [
    {
     "name": "stdout",
     "output_type": "stream",
     "text": [
      "Enter Message Here:message\n",
      "Encrypted Message is: b'gAAAAABf3hh3W0PBxcNoKU8t1g23lmAYCR03AKWnuo8DUWvTYN5m__UpfLS7zpUZry9gluJ7zZDk9cHhefa7K3n6nSToKBXk-g=='\n",
      "Decrypted Message is: b'message'\n"
     ]
    }
   ],
   "source": [
    "from cryptography.fernet import Fernet\n",
    "def generate_key():\n",
    "    key = Fernet.generate_key()\n",
    "    keyfile = open('generatedkey.txt','wb')\n",
    "    keyfile.write(key)\n",
    "    keyfile.close()\n",
    "    \n",
    "def get_key():\n",
    "    return open('generatedkey.txt','rb').read()\n",
    "def encrypt_msg(message):\n",
    "    key = get_key()\n",
    "    f = Fernet(key)\n",
    "    encrypted_msg = f.encrypt(b\"message\")\n",
    "    print(\"Encrypted Message is:\",encrypted_msg)\n",
    "    return encrypted_msg\n",
    "\n",
    "def decrypt_msg(encrypted_msg):\n",
    "    key = get_key()\n",
    "    f = Fernet(key)\n",
    "    decrypted_msg = f.decrypt(encrypted_msg)\n",
    "    print(\"Decrypted Message is:\",decrypted_msg)\n",
    "    \n",
    "message = input(\"Enter Message Here:\")\n",
    "encrypted_msg = encrypt_msg(message)\n",
    "decrypt_msg(encrypted_msg)"
   ]
  }
 ],
 "metadata": {
  "kernelspec": {
   "display_name": "Python 3",
   "language": "python",
   "name": "python3"
  },
  "language_info": {
   "codemirror_mode": {
    "name": "ipython",
    "version": 3
   },
   "file_extension": ".py",
   "mimetype": "text/x-python",
   "name": "python",
   "nbconvert_exporter": "python",
   "pygments_lexer": "ipython3",
   "version": "3.8.3"
  }
 },
 "nbformat": 4,
 "nbformat_minor": 4
}
